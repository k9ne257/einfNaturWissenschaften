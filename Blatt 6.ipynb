{
 "cells": [
  {
   "metadata": {},
   "cell_type": "markdown",
   "source": "# Aufgabe 1",
   "id": "3af5adb65044c8fc"
  },
  {
   "metadata": {},
   "cell_type": "markdown",
   "source": "",
   "id": "519517f83d5ed28d"
  },
  {
   "metadata": {
    "ExecuteTime": {
     "end_time": "2024-11-11T15:30:02.391725Z",
     "start_time": "2024-11-11T15:30:02.382067Z"
    }
   },
   "cell_type": "code",
   "source": [
    "unrooted_tree = [\n",
    "    (1, 6), (2, 6), (3, 7), (4, 8), (5, 8), (6, 7), (7, 8)\n",
    "]\n",
    "\n",
    "# Ausgabe der Verbindungen\n",
    "print(\"Unrooted Tree Connections:\", unrooted_tree)\n"
   ],
   "id": "1897007987f85ed9",
   "outputs": [
    {
     "name": "stdout",
     "output_type": "stream",
     "text": [
      "Unrooted Tree Connections: [(1, 6), (2, 6), (3, 7), (4, 8), (5, 8), (6, 7), (7, 8)]\n"
     ]
    }
   ],
   "execution_count": 2
  },
  {
   "metadata": {},
   "cell_type": "markdown",
   "source": "# Aufgabe 2",
   "id": "a2447a15f0767da4"
  },
  {
   "metadata": {
    "ExecuteTime": {
     "end_time": "2024-11-11T15:31:30.801203Z",
     "start_time": "2024-11-11T15:31:30.779807Z"
    }
   },
   "cell_type": "code",
   "source": [
    "def do_rooting(tree, root_edge):\n",
    "    # Füge einen neuen Wurzelknoten hinzu\n",
    "    root_node = max(max(edge) for edge in tree) + 1\n",
    "    rooted_tree = []\n",
    "\n",
    "    # Durchlaufe die Verbindungen und setze die Richtung\n",
    "    def recurse_tree(node, parent):\n",
    "        for edge in tree:\n",
    "            if node in edge:\n",
    "                child = edge[1] if edge[0] == node else edge[0]\n",
    "                if child != parent:\n",
    "                    rooted_tree.append((node, child))\n",
    "                    recurse_tree(child, node)\n",
    "\n",
    "    # Füge die neuen Verbindungen für den Wurzelknoten hinzu\n",
    "    rooted_tree.append((root_node, root_edge[0]))\n",
    "    rooted_tree.append((root_node, root_edge[1]))\n",
    "    recurse_tree(root_edge[0], root_node)\n",
    "    recurse_tree(root_edge[1], root_node)\n",
    "\n",
    "    return rooted_tree, root_node\n",
    "\n",
    "# Beispiel für die Nutzung der Funktion\n",
    "rooted, rootnode = do_rooting(unrooted_tree, (6, 7))\n",
    "print(\"Rooted Tree:\", rooted)\n",
    "print(\"Root Node:\", rootnode)\n"
   ],
   "id": "d628cdbb8e13ab42",
   "outputs": [
    {
     "name": "stdout",
     "output_type": "stream",
     "text": [
      "Rooted Tree: [(9, 6), (9, 7), (6, 1), (6, 2), (6, 7), (7, 3), (7, 8), (8, 4), (8, 5), (7, 3), (7, 6), (6, 1), (6, 2), (7, 8), (8, 4), (8, 5)]\n",
      "Root Node: 9\n"
     ]
    }
   ],
   "execution_count": 3
  },
  {
   "metadata": {},
   "cell_type": "markdown",
   "source": "# Aufgabe 3",
   "id": "bad9870c31b935f7"
  },
  {
   "metadata": {
    "ExecuteTime": {
     "end_time": "2024-11-11T15:33:05.314578Z",
     "start_time": "2024-11-11T15:33:05.291547Z"
    }
   },
   "cell_type": "code",
   "source": [
    "def all_possible_rootings(tree):\n",
    "    possible_roots = []\n",
    "    for edge in tree:\n",
    "        rooted, rootnode = do_rooting(tree, edge)\n",
    "        possible_roots.append((edge, rooted))\n",
    "    return possible_roots\n",
    "\n",
    "# Ausgabe aller gewurzelten Bäume\n",
    "all_roots = all_possible_rootings(unrooted_tree)\n",
    "for root_edge, tree in all_roots:\n",
    "    print(f\"Root on edge {root_edge} --> Tree:\", tree)\n"
   ],
   "id": "71bce32d2f61403c",
   "outputs": [
    {
     "name": "stdout",
     "output_type": "stream",
     "text": [
      "Root on edge (1, 6) --> Tree: [(9, 1), (9, 6), (1, 6), (6, 2), (6, 7), (7, 3), (7, 8), (8, 4), (8, 5), (6, 1), (6, 2), (6, 7), (7, 3), (7, 8), (8, 4), (8, 5)]\n",
      "Root on edge (2, 6) --> Tree: [(9, 2), (9, 6), (2, 6), (6, 1), (6, 7), (7, 3), (7, 8), (8, 4), (8, 5), (6, 1), (6, 2), (6, 7), (7, 3), (7, 8), (8, 4), (8, 5)]\n",
      "Root on edge (3, 7) --> Tree: [(9, 3), (9, 7), (3, 7), (7, 6), (6, 1), (6, 2), (7, 8), (8, 4), (8, 5), (7, 3), (7, 6), (6, 1), (6, 2), (7, 8), (8, 4), (8, 5)]\n",
      "Root on edge (4, 8) --> Tree: [(9, 4), (9, 8), (4, 8), (8, 5), (8, 7), (7, 3), (7, 6), (6, 1), (6, 2), (8, 4), (8, 5), (8, 7), (7, 3), (7, 6), (6, 1), (6, 2)]\n",
      "Root on edge (5, 8) --> Tree: [(9, 5), (9, 8), (5, 8), (8, 4), (8, 7), (7, 3), (7, 6), (6, 1), (6, 2), (8, 4), (8, 5), (8, 7), (7, 3), (7, 6), (6, 1), (6, 2)]\n",
      "Root on edge (6, 7) --> Tree: [(9, 6), (9, 7), (6, 1), (6, 2), (6, 7), (7, 3), (7, 8), (8, 4), (8, 5), (7, 3), (7, 6), (6, 1), (6, 2), (7, 8), (8, 4), (8, 5)]\n",
      "Root on edge (7, 8) --> Tree: [(9, 7), (9, 8), (7, 3), (7, 6), (6, 1), (6, 2), (7, 8), (8, 4), (8, 5), (8, 4), (8, 5), (8, 7), (7, 3), (7, 6), (6, 1), (6, 2)]\n"
     ]
    }
   ],
   "execution_count": 4
  },
  {
   "metadata": {},
   "cell_type": "markdown",
   "source": "# Aufgabe 4",
   "id": "e914e6f3f3faf678"
  },
  {
   "metadata": {
    "ExecuteTime": {
     "end_time": "2024-11-11T15:34:28.647043Z",
     "start_time": "2024-11-11T15:34:28.624470Z"
    }
   },
   "cell_type": "code",
   "source": [
    "def newick_write(tree, root_node):\n",
    "    # Erzeuge rekursiv den Newick-String\n",
    "    def recurse(node, parent):\n",
    "        children = [child for parent_node, child in tree if parent_node == node and child != parent]\n",
    "        if children:\n",
    "            return \"(\" + \",\".join(recurse(child, node) for child in children) + \")\"\n",
    "        else:\n",
    "            return str(node)\n",
    "\n",
    "    return recurse(root_node, None) + \";\"\n",
    "\n",
    "# Ausgabe des Newick-Formats für alle möglichen Wurzelpositionen\n",
    "for root_edge, rooted_tree in all_roots:\n",
    "    root_node = max(max(edge) for edge in rooted_tree) + 1\n",
    "    newick_str = newick_write(rooted_tree, root_node)\n",
    "    print(f\"{root_edge} --> Newick: {newick_str}\")\n"
   ],
   "id": "e985cef63269c28c",
   "outputs": [
    {
     "name": "stdout",
     "output_type": "stream",
     "text": [
      "(1, 6) --> Newick: 10;\n",
      "(2, 6) --> Newick: 10;\n",
      "(3, 7) --> Newick: 10;\n",
      "(4, 8) --> Newick: 10;\n",
      "(5, 8) --> Newick: 10;\n",
      "(6, 7) --> Newick: 10;\n",
      "(7, 8) --> Newick: 10;\n"
     ]
    }
   ],
   "execution_count": 5
  },
  {
   "metadata": {},
   "cell_type": "code",
   "outputs": [],
   "execution_count": null,
   "source": "",
   "id": "8b7ef0ecdaafb8eb"
  }
 ],
 "metadata": {
  "kernelspec": {
   "display_name": "Python 3",
   "language": "python",
   "name": "python3"
  },
  "language_info": {
   "codemirror_mode": {
    "name": "ipython",
    "version": 2
   },
   "file_extension": ".py",
   "mimetype": "text/x-python",
   "name": "python",
   "nbconvert_exporter": "python",
   "pygments_lexer": "ipython2",
   "version": "2.7.6"
  }
 },
 "nbformat": 4,
 "nbformat_minor": 5
}
