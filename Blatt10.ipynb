{
 "cells": [
  {
   "metadata": {},
   "cell_type": "markdown",
   "source": "# Aufgabe 1",
   "id": "72d39c4b22e32035"
  },
  {
   "metadata": {
    "ExecuteTime": {
     "end_time": "2024-12-14T20:22:40.551312Z",
     "start_time": "2024-12-14T20:22:39.896587Z"
    }
   },
   "cell_type": "code",
   "source": [
    "import numpy as np\n",
    "\n",
    "# Daten und Wahrscheinlichkeiten\n",
    "data = [\n",
    "    (\"HTTTHTTHTH\", 0.4),\n",
    "    (\"HHHHTHHHHH\", 0.9),\n",
    "    (\"HTHHHHHTHH\", 0.8),\n",
    "    (\"HTTTTTHHTT\", 0.3),\n",
    "    (\"THHHTHHHTH\", 0.7),\n",
    "]\n",
    "theta_A = 0.4\n",
    "theta_B = 0.8\n",
    "\n",
    "def compute_hidden_matrix(data, theta_A, theta_B):\n",
    "    hidden_matrix = []\n",
    "\n",
    "    for sequence, observed_prob in data:\n",
    "        prob_A = 1.0\n",
    "        prob_B = 1.0\n",
    "        \n",
    "        for toss in sequence:\n",
    "            if toss == \"H\":\n",
    "                prob_A *= theta_A\n",
    "                prob_B *= theta_B\n",
    "            else:\n",
    "                prob_A *= (1 - theta_A)\n",
    "                prob_B *= (1 - theta_B)\n",
    "        \n",
    "        # Normalisieren\n",
    "        total_prob = prob_A + prob_B\n",
    "        hidden_matrix.append((prob_A / total_prob, prob_B / total_prob))\n",
    "    \n",
    "    return np.array(hidden_matrix)\n",
    "\n",
    "hidden_matrix = compute_hidden_matrix(data, theta_A, theta_B)\n",
    "print(\"HiddenMatrix:\")\n",
    "print(hidden_matrix)\n"
   ],
   "id": "88763d7006f8d512",
   "outputs": [
    {
     "name": "stdout",
     "output_type": "stream",
     "text": [
      "HiddenMatrix:\n",
      "[[0.97852349 0.02147651]\n",
      " [0.00582524 0.99417476]\n",
      " [0.03396226 0.96603774]\n",
      " [0.99635535 0.00364465]\n",
      " [0.17419355 0.82580645]]\n"
     ]
    }
   ],
   "execution_count": 1
  },
  {
   "metadata": {},
   "cell_type": "markdown",
   "source": "# Aufgabe 2",
   "id": "a06648effc076a57"
  },
  {
   "metadata": {},
   "cell_type": "markdown",
   "source": [
    "Mit Hilfe welches Kriteriums können Sie die Iteration beim Expectation Maximization\n",
    "abbrechen\n",
    "\n",
    "Wenn die Konvergenz der Log-Likehood erreicht ist.\n",
    "\n",
    "wenn die maximale Anzahl an Iterationen überschritten wird, falls keine Konvergenz eintritt.\n"
   ],
   "id": "693a528e5914d19c"
  },
  {
   "metadata": {},
   "cell_type": "markdown",
   "source": "# Aufgabe 3",
   "id": "3963882888e07914"
  },
  {
   "metadata": {
    "ExecuteTime": {
     "end_time": "2024-12-14T20:55:33.787661Z",
     "start_time": "2024-12-14T20:55:33.622188Z"
    }
   },
   "cell_type": "code",
   "source": [
    "import random\n",
    "\n",
    "# Funktion zur Berechnung der HiddenMatrix\n",
    "def compute_hidden_matrix_soft(data, centers, beta=1):\n",
    "    hidden_matrix = []\n",
    "    for point in data:\n",
    "        distances = [np.linalg.norm(point - center) for center in centers]\n",
    "        weights = np.exp(-beta * np.array(distances))\n",
    "        weights /= np.sum(weights)\n",
    "        hidden_matrix.append(weights)\n",
    "    return np.array(hidden_matrix)\n",
    "\n",
    "# M-Schritt: Zentren aktualisieren\n",
    "def update_centers(data, hidden_matrix):\n",
    "    k = hidden_matrix.shape[1]\n",
    "    new_centers = []\n",
    "    for i in range(k):\n",
    "        weights = hidden_matrix[:, i]\n",
    "        new_center = np.sum(data.T * weights, axis=1) / np.sum(weights)\n",
    "        new_centers.append(new_center)\n",
    "    return np.array(new_centers)\n",
    "\n",
    "# Soft k-Means Algorithmus\n",
    "def soft_k_means(data, k, beta=1, max_iters=100, tol=1e-4):\n",
    "    # Initialisiere zufällige Zentren\n",
    "    random_indices = random.sample(range(len(data)), k)\n",
    "    centers = np.array([data[i] for i in random_indices])\n",
    "    \n",
    "    for iteration in range(max_iters):\n",
    "        hidden_matrix = compute_hidden_matrix_soft(data, centers, beta)\n",
    "        new_centers = update_centers(data, hidden_matrix)\n",
    "        \n",
    "        # Prüfe Konvergenz\n",
    "        if np.linalg.norm(new_centers - centers) < tol:\n",
    "            break\n",
    "        centers = new_centers\n",
    "    \n",
    "    return hidden_matrix, centers\n",
    "\n",
    "# Hauptprogramm\n",
    "data = np.random.rand(231, 10)  # Beispiel-Daten (231 Punkte mit 10 Dimensionen)\n",
    "hidden_matrix, final_centers = soft_k_means(data, k=6, beta=1)\n",
    "\n",
    "# Speichern der HiddenMatrix\n",
    "np.savetxt(\"HM.txt\", hidden_matrix)\n"
   ],
   "id": "310c6840ea45d55b",
   "outputs": [],
   "execution_count": 2
  },
  {
   "metadata": {},
   "cell_type": "markdown",
   "source": "# Aufgabe 4",
   "id": "76daca37cb57bd75"
  },
  {
   "metadata": {
    "ExecuteTime": {
     "end_time": "2024-12-14T20:56:19.870994Z",
     "start_time": "2024-12-14T20:56:19.848820Z"
    }
   },
   "cell_type": "code",
   "source": [
    "# Anzahl der Gene pro Cluster\n",
    "def genes_per_cluster(hidden_matrix):\n",
    "    cluster_assignments = np.argmax(hidden_matrix, axis=1)\n",
    "    unique, counts = np.unique(cluster_assignments, return_counts=True)\n",
    "    cluster_sizes = dict(zip(unique, counts))\n",
    "    return cluster_sizes\n",
    "\n",
    "cluster_sizes = genes_per_cluster(hidden_matrix)\n",
    "for cluster, size in cluster_sizes.items():\n",
    "    print(f\"Cluster {cluster}: {size} members\")\n"
   ],
   "id": "8711f6f7cc99b009",
   "outputs": [
    {
     "name": "stdout",
     "output_type": "stream",
     "text": [
      "Cluster 0: 17 members\n",
      "Cluster 1: 54 members\n",
      "Cluster 2: 45 members\n",
      "Cluster 3: 67 members\n",
      "Cluster 4: 28 members\n",
      "Cluster 5: 20 members\n"
     ]
    }
   ],
   "execution_count": 3
  },
  {
   "metadata": {},
   "cell_type": "code",
   "outputs": [],
   "execution_count": null,
   "source": "",
   "id": "a53aaecf1f88b880"
  }
 ],
 "metadata": {
  "kernelspec": {
   "display_name": "Python 3",
   "language": "python",
   "name": "python3"
  },
  "language_info": {
   "codemirror_mode": {
    "name": "ipython",
    "version": 2
   },
   "file_extension": ".py",
   "mimetype": "text/x-python",
   "name": "python",
   "nbconvert_exporter": "python",
   "pygments_lexer": "ipython2",
   "version": "2.7.6"
  }
 },
 "nbformat": 4,
 "nbformat_minor": 5
}
