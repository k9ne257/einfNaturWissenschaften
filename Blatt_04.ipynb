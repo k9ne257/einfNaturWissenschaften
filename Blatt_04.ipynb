{
 "cells": [
  {
   "metadata": {},
   "cell_type": "markdown",
   "source": "# Aufgabe 1",
   "id": "91d4f6bad4cd36f1"
  },
  {
   "metadata": {
    "ExecuteTime": {
     "end_time": "2024-11-01T13:25:56.049015Z",
     "start_time": "2024-11-01T13:25:55.588737Z"
    }
   },
   "cell_type": "code",
   "source": [
    "import numpy as np\n",
    "\n",
    "# Funktion zum Einlesen der Sequenzen aus Textdateien\n",
    "def load_sequence(filename):\n",
    "    with open(filename, 'r') as file:\n",
    "        return file.read().replace('\\n', '')\n",
    "\n",
    "# Parameter\n",
    "gap_penalty = -5\n",
    "match_score = 1\n",
    "mismatch_penalty = -1\n",
    "\n",
    "# Lade die Sequenzen\n",
    "seq1 = load_sequence('Homo_sapiens_hba.txt')\n",
    "seq2 = load_sequence('Homo_sapiens_mb.txt')\n",
    "\n",
    "# Initialisiere DP-Matrix und Backtracking-Matrix\n",
    "dp_matrix = np.zeros((len(seq1) + 1, len(seq2) + 1))\n",
    "backtrack_matrix = np.zeros((len(seq1) + 1, len(seq2) + 1), dtype=int)\n",
    "\n",
    "# Fülle die DP-Matrix (lokales Alignment)\n",
    "max_score = 0\n",
    "max_pos = (0, 0)\n",
    "\n",
    "for i in range(1, len(seq1) + 1):\n",
    "    for j in range(1, len(seq2) + 1):\n",
    "        match = dp_matrix[i - 1, j - 1] + (match_score if seq1[i - 1] == seq2[j - 1] else mismatch_penalty)\n",
    "        delete = dp_matrix[i - 1, j] + gap_penalty\n",
    "        insert = dp_matrix[i, j - 1] + gap_penalty\n",
    "        dp_matrix[i, j] = max(0, match, delete, insert)\n",
    "        \n",
    "        # Speichere den maximalen Score für das Backtracking\n",
    "        if dp_matrix[i, j] >= max_score:\n",
    "            max_score = dp_matrix[i, j]\n",
    "            max_pos = (i, j)\n",
    "\n",
    "# Backtracking vom höchsten Punkt bis zu einem Wert von 0\n",
    "aligned_seq1 = []\n",
    "aligned_seq2 = []\n",
    "i, j = max_pos\n",
    "\n",
    "while dp_matrix[i, j] != 0:\n",
    "    if i > 0 and j > 0 and dp_matrix[i, j] == dp_matrix[i - 1, j - 1] + (match_score if seq1[i - 1] == seq2[j - 1] else mismatch_penalty):\n",
    "        aligned_seq1.append(seq1[i - 1])\n",
    "        aligned_seq2.append(seq2[j - 1])\n",
    "        i -= 1\n",
    "        j -= 1\n",
    "    elif i > 0 and dp_matrix[i, j] == dp_matrix[i - 1, j] + gap_penalty:\n",
    "        aligned_seq1.append(seq1[i - 1])\n",
    "        aligned_seq2.append('-')\n",
    "        i -= 1\n",
    "    else:\n",
    "        aligned_seq1.append('-')\n",
    "        aligned_seq2.append(seq2[j - 1])\n",
    "        j -= 1\n",
    "\n",
    "# Die Ausrichtung in der korrekten Reihenfolge ausgeben\n",
    "aligned_seq1 = ''.join(aligned_seq1[::-1])\n",
    "aligned_seq2 = ''.join(aligned_seq2[::-1])\n",
    "\n",
    "# Ausgabe\n",
    "print(\"Score:\", max_score)\n",
    "print(\"Alignment:\")\n",
    "print(aligned_seq1)\n",
    "print(aligned_seq2)\n",
    "\n",
    "# Speichere das Alignment in einer Datei\n",
    "with open('local_aln.txt', 'w') as file:\n",
    "    file.write(f\"Score: {max_score}\\nAlignment:\\n{aligned_seq1}\\n{aligned_seq2}\\n\")\n"
   ],
   "id": "bc3710811669171e",
   "outputs": [
    {
     "name": "stdout",
     "output_type": "stream",
     "text": [
      "Score: 4.0\n",
      "Alignment:\n",
      "TVLT\n",
      "TVLT\n"
     ]
    }
   ],
   "execution_count": 4
  },
  {
   "metadata": {},
   "cell_type": "markdown",
   "source": "# Aufgabe 2",
   "id": "5ace935c2cf69425"
  },
  {
   "metadata": {
    "ExecuteTime": {
     "end_time": "2024-11-01T14:03:19.497508Z",
     "start_time": "2024-11-01T14:03:19.343492Z"
    }
   },
   "cell_type": "code",
   "source": [
    "import numpy as np\n",
    "\n",
    "# Parameter\n",
    "gap_open = -10\n",
    "gap_extend = -0.5\n",
    "match_score = 1\n",
    "mismatch_penalty = -1\n",
    "\n",
    "# Lade die Sequenzen\n",
    "seq1 = load_sequence('Homo_sapiens_hba.txt')\n",
    "seq2 = load_sequence('Homo_sapiens_mb.txt')\n",
    "\n",
    "# Initialisiere Matrizen\n",
    "S_right = np.full((len(seq1) + 1, len(seq2) + 1), -np.inf)\n",
    "S_down = np.full((len(seq1) + 1, len(seq2) + 1), -np.inf)\n",
    "S = np.zeros((len(seq1) + 1, len(seq2) + 1))\n",
    "\n",
    "# Initialisiere die erste Reihe und Spalte\n",
    "for i in range(1, len(seq1) + 1):\n",
    "    S[i, 0] = gap_open + (i - 1) * gap_extend\n",
    "    S_down[i, 0] = S[i, 0]\n",
    "for j in range(1, len(seq2) + 1):\n",
    "    S[0, j] = gap_open + (j - 1) * gap_extend\n",
    "    S_right[0, j] = S[0, j]\n",
    "\n",
    "# Fülle die DP-Matrizen\n",
    "for i in range(1, len(seq1) + 1):\n",
    "    for j in range(1, len(seq2) + 1):\n",
    "        S_right[i, j] = max(S_right[i, j - 1] + gap_extend, S[i, j - 1] + gap_open)\n",
    "        S_down[i, j] = max(S_down[i - 1, j] + gap_extend, S[i - 1, j] + gap_open)\n",
    "        S[i, j] = max(S[i - 1, j - 1] + (match_score if seq1[i - 1] == seq2[j - 1] else mismatch_penalty), \n",
    "                      S_down[i, j], S_right[i, j])\n",
    "\n",
    "# Berechne den Alignment-Score\n",
    "alignment_score = S[len(seq1), len(seq2)]\n",
    "\n",
    "# Ausgabe\n",
    "print(\"Score:\", alignment_score)\n",
    "print(\"S_right Matrix:\")\n",
    "print(S_right)\n"
   ],
   "id": "feedaded9a386cf5",
   "outputs": [
    {
     "name": "stdout",
     "output_type": "stream",
     "text": [
      "Score: -89.0\n",
      "S_right Matrix:\n",
      "[[ -inf -10.  -10.5 ... -85.5 -86.  -86.5]\n",
      " [ -inf -20.   -9.  ... -84.  -84.5 -85. ]\n",
      " [ -inf -20.5 -19.  ... -84.5 -85.  -85.5]\n",
      " ...\n",
      " [ -inf -89.5 -88.  ... -89.  -89.5 -90. ]\n",
      " [ -inf -90.  -88.5 ... -87.5 -88.  -88.5]\n",
      " [ -inf -90.5 -89.  ... -88.  -88.5 -89. ]]\n"
     ]
    }
   ],
   "execution_count": 6
  },
  {
   "metadata": {},
   "cell_type": "code",
   "outputs": [],
   "execution_count": null,
   "source": "",
   "id": "fa784010d483efaf"
  }
 ],
 "metadata": {
  "kernelspec": {
   "display_name": "Python 3",
   "language": "python",
   "name": "python3"
  },
  "language_info": {
   "codemirror_mode": {
    "name": "ipython",
    "version": 2
   },
   "file_extension": ".py",
   "mimetype": "text/x-python",
   "name": "python",
   "nbconvert_exporter": "python",
   "pygments_lexer": "ipython2",
   "version": "2.7.6"
  }
 },
 "nbformat": 4,
 "nbformat_minor": 5
}
