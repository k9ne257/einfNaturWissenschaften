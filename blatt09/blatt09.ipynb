{
 "cells": [
  {
   "metadata": {},
   "cell_type": "markdown",
   "source": "## Aufgabe 1",
   "id": "bc9a7e28e5a9c2c"
  },
  {
   "metadata": {
    "ExecuteTime": {
     "end_time": "2024-12-09T02:17:39.089233Z",
     "start_time": "2024-12-09T02:17:39.084164Z"
    }
   },
   "cell_type": "code",
   "source": [
    "import numpy as np\n",
    "import pandas as pd\n",
    "from scipy.spatial.distance import euclidean"
   ],
   "id": "2f8cda25bc6a6ad7",
   "outputs": [],
   "execution_count": 74
  },
  {
   "metadata": {
    "ExecuteTime": {
     "end_time": "2024-12-09T02:17:39.136747Z",
     "start_time": "2024-12-09T02:17:39.114956Z"
    }
   },
   "cell_type": "code",
   "source": [
    "# Load the data\n",
    "data = pd.read_csv(\"data.txt\", sep=\"\\t\")\n",
    "genes = data.iloc[:, 0]\n",
    "expression_vectors = data.iloc[:, 1:].values\n"
   ],
   "id": "7960547048e09913",
   "outputs": [],
   "execution_count": 75
  },
  {
   "metadata": {
    "ExecuteTime": {
     "end_time": "2024-12-09T02:17:39.174812Z",
     "start_time": "2024-12-09T02:17:39.165104Z"
    }
   },
   "cell_type": "code",
   "source": [
    "# Farthest First Traversal for k-Center Clustering\n",
    "def farthest_first_traversal(data, k):\n",
    "    n = data.shape[0]\n",
    "    centers = [0]  # Start with the first data point\n",
    "    while len(centers) < k:\n",
    "        # Calculate minimum distances from existing centers\n",
    "        distances = np.array([min(euclidean(data[i], data[c]) for c in centers) for i in range(n)])\n",
    "        # Select the farthest point\n",
    "        farthest = np.argmax(distances)\n",
    "        centers.append(farthest)\n",
    "    return centers"
   ],
   "id": "32f20e7cc4592172",
   "outputs": [],
   "execution_count": 76
  },
  {
   "metadata": {
    "ExecuteTime": {
     "end_time": "2024-12-09T02:17:39.215789Z",
     "start_time": "2024-12-09T02:17:39.201620Z"
    }
   },
   "cell_type": "code",
   "source": [
    "# Assign points to the nearest center\n",
    "def assign_to_clusters(data, centers):\n",
    "    clusters = {i: [] for i in range(len(centers))}\n",
    "    for i in range(len(data)):\n",
    "        distances = [euclidean(data[i], data[c]) for c in centers]\n",
    "        nearest = np.argmin(distances)\n",
    "        clusters[nearest].append(i)\n",
    "    return clusters"
   ],
   "id": "e33141ca6e0643d6",
   "outputs": [],
   "execution_count": 77
  },
  {
   "metadata": {
    "ExecuteTime": {
     "end_time": "2024-12-09T02:17:39.254763Z",
     "start_time": "2024-12-09T02:17:39.244055Z"
    }
   },
   "cell_type": "code",
   "source": [
    "# Assign points to the nearest center\n",
    "def assign_to_clusters(data, centers):\n",
    "    clusters = {i: [] for i in range(len(centers))}\n",
    "    for i in range(len(data)):\n",
    "        distances = [euclidean(data[i], data[c]) for c in centers]\n",
    "        nearest = np.argmin(distances)\n",
    "        clusters[nearest].append(i)\n",
    "    return clusters"
   ],
   "id": "afb23e19adbed274",
   "outputs": [],
   "execution_count": 78
  },
  {
   "metadata": {
    "ExecuteTime": {
     "end_time": "2024-12-09T02:17:39.340018Z",
     "start_time": "2024-12-09T02:17:39.281383Z"
    }
   },
   "cell_type": "code",
   "source": [
    "# Perform clustering\n",
    "k = 6\n",
    "center_indices = farthest_first_traversal(expression_vectors, k)\n",
    "clusters = assign_to_clusters(expression_vectors, center_indices)\n",
    "with open(\"fft.txt\", \"w\") as f:\n",
    "    for cluster_id, members in sorted(clusters.items()):\n",
    "        # Convert all gene names to strings and handle non-string values\n",
    "        gene_names = sorted(str(genes.iloc[m]) for m in members if not pd.isna(genes.iloc[m]))\n",
    "        f.write(f\"Cluster {cluster_id}:\\n{' '.join(gene_names)}\\n\")"
   ],
   "id": "5de92c2a975e1371",
   "outputs": [],
   "execution_count": 79
  },
  {
   "metadata": {},
   "cell_type": "markdown",
   "source": [
    "## Aufgabe 2\n",
    "\n",
    "Extremwerte oder Ausreißer haben einen großen Einfluss auf das kk-Center-Clustering, weil der Algorithmus versucht die maximale Distanz zwischen einem beliebigen Punkt und seinem nächsten Zentrum zu minimieren. Ein Ausreißer, der weit von allen anderen Punkten entfernt ist, erzwingt, dass ein Cluster-Zentrum speziell diesem Punkt zugeordnet wird, selbst wenn dieses Zentrum den Großteil der Daten schlecht repräsentiert. Dadurch werden die restlichen Cluster suboptimal verteilt."
   ],
   "id": "565b5930582e50dc"
  },
  {
   "metadata": {},
   "cell_type": "markdown",
   "source": [
    "## Aufgabe 3\n",
    "\n",
    "O(n⋅k+n2)"
   ],
   "id": "460a526f6e2607bd"
  },
  {
   "metadata": {},
   "cell_type": "markdown",
   "source": [
    "## Aufgabe 4\n",
    "\n",
    "K-Center fokussiert auf die Minimierung der maximalen Distanz von einem Punkt zu seinem nächsten Zentrum. Die Cluster-Zentren sind die tatsächlichen Datenpunkte. K-Center ist sehr empfindlich gegenüber Ausreißern. \n",
    "\n",
    "K-Means anderseits fokussiert sich auf die Minimierung der Summe der quadrierten Distanzen von jedem Punkt zu seinem Cluster-Zentrum (geometrische Mittelpunkte).  K-Means ist nicht so empfindlich wie K-Center aufgrund der Mittelung."
   ],
   "id": "62d5fe06a36de48a"
  },
  {
   "metadata": {},
   "cell_type": "markdown",
   "source": [
    "## Aufgabe 5\n",
    "\n",
    "Wenn \\(k=1\\), das Problem reduziert sich darauf, den Mittelwert des Datensatzes zu berechnen unter verwendung der Formel:\n",
    "\n",
    "$$\n",
    "\\text{Centroid} = \\frac{1}{n} \\sum_{i=1}^n x_i\n",
    "$$\n",
    "\n",
    "wobei \\(x_i\\) die Datenpunkte sind. Dies minimiert die Summe der quadrierten Abstände aller Punkte zum Zentrum, was das Ziel des \\(k\\)-Means-Clustering ist."
   ],
   "id": "d15ded821b30996b"
  },
  {
   "metadata": {},
   "cell_type": "markdown",
   "source": "## Aufgabe 6",
   "id": "d92b8caa44fbc950"
  },
  {
   "metadata": {
    "ExecuteTime": {
     "end_time": "2024-12-09T02:17:39.392452Z",
     "start_time": "2024-12-09T02:17:39.367728Z"
    }
   },
   "cell_type": "code",
   "source": [
    "import random\n",
    "\n",
    "# Lloyd Algorithm for k-Means Clustering\n",
    "def lloyd_algorithm(data, k, max_iterations=100):\n",
    "    # Initialize cluster centers randomly\n",
    "    centers = data[random.sample(range(len(data)), k)]\n",
    "    for _ in range(max_iterations):\n",
    "        # Assign points to the nearest center\n",
    "        clusters = {i: [] for i in range(k)}\n",
    "        for i in range(len(data)):\n",
    "            distances = [euclidean(data[i], center) for center in centers]\n",
    "            nearest = np.argmin(distances)\n",
    "            clusters[nearest].append(i)\n",
    "        \n",
    "        # Update cluster centers\n",
    "        new_centers = np.array([np.mean(data[members], axis=0) if members else center for center, members in zip(centers, clusters.values())])\n",
    "        if np.allclose(new_centers, centers):  # Check for convergence\n",
    "            break\n",
    "        centers = new_centers\n",
    "    return clusters\n",
    "\n",
    "# Perform clustering\n",
    "k = 5\n",
    "clusters = lloyd_algorithm(expression_vectors, k)\n",
    "\n",
    "# Format and save the output\n",
    "with open(\"lloyd.txt\", \"w\") as f:\n",
    "    for cluster_id, members in sorted(clusters.items()):\n",
    "        gene_names = sorted(str(genes.iloc[m]) for m in members if not pd.isna(genes.iloc[m]))\n",
    "        f.write(f\"Cluster {cluster_id}:\\n{' '.join(gene_names)}\\n\")\n"
   ],
   "id": "1920d1366e772220",
   "outputs": [],
   "execution_count": 80
  },
  {
   "metadata": {},
   "cell_type": "markdown",
   "source": "## Aufgabe 7",
   "id": "7f30ad131d478531"
  },
  {
   "metadata": {
    "ExecuteTime": {
     "end_time": "2024-12-09T02:17:39.439177Z",
     "start_time": "2024-12-09T02:17:39.427552Z"
    }
   },
   "cell_type": "code",
   "source": [
    "# k-Means++ Initialization\n",
    "def kmeans_plus_plus_initializer(data, k):\n",
    "    n = data.shape[0]\n",
    "    centers = [random.randint(0, n - 1)]  # Randomly pick the first center\n",
    "    while len(centers) < k:\n",
    "        # Calculate the minimum distances to existing centers\n",
    "        distances = np.min([np.linalg.norm(data - data[c], axis=1) for c in centers], axis=0)\n",
    "        \n",
    "        # Handle invalid distances by replacing zeros with a small value (epsilon)\n",
    "        epsilon = 1e-10\n",
    "        distances = np.where(distances == 0, epsilon, distances)\n",
    "        \n",
    "        # Compute probabilities for selecting the next center\n",
    "        probabilities = distances**2 / np.sum(distances**2)\n",
    "        \n",
    "        # Ensure probabilities do not contain NaN values\n",
    "        if np.any(np.isnan(probabilities)):\n",
    "            raise ValueError(\"Probabilities contain NaN values. Check your data or initialization.\")\n",
    "        \n",
    "        # Choose the next center\n",
    "        new_center = np.random.choice(range(n), p=probabilities)\n",
    "        centers.append(new_center)\n",
    "    return data[centers]\n",
    "\n",
    "# Extend Lloyd Algorithm with k-Means++ Initialization\n",
    "def lloyd_plus_plus(data, k, max_iterations=100):\n",
    "    centers = kmeans_plus_plus_initializer(data, k)\n",
    "    return lloyd_algorithm(data, k, max_iterations)"
   ],
   "id": "9a305f559cc077c4",
   "outputs": [],
   "execution_count": 81
  },
  {
   "metadata": {
    "ExecuteTime": {
     "end_time": "2024-12-09T02:17:39.510655Z",
     "start_time": "2024-12-09T02:17:39.473196Z"
    }
   },
   "cell_type": "code",
   "source": [
    "# Perform clustering\n",
    "clusters = lloyd_plus_plus(expression_vectors, k)\n",
    "\n",
    "# Format and save the output\n",
    "with open(\"lloydpp.txt\", \"w\") as f:\n",
    "    for cluster_id, members in sorted(clusters.items()):\n",
    "        gene_names = sorted(str(genes.iloc[m]) for m in members if not pd.isna(genes.iloc[m]))\n",
    "        f.write(f\"Cluster {cluster_id}:\\n{' '.join(gene_names)}\\n\")\n"
   ],
   "id": "588c6292a458dc9e",
   "outputs": [],
   "execution_count": 82
  },
  {
   "metadata": {},
   "cell_type": "markdown",
   "source": "## Aufgabe 8",
   "id": "810d3bf0d34182d8"
  },
  {
   "metadata": {
    "ExecuteTime": {
     "end_time": "2024-12-09T02:25:15.725367Z",
     "start_time": "2024-12-09T02:25:15.456896Z"
    }
   },
   "cell_type": "code",
   "source": [
    "import matplotlib.pyplot as plt\n",
    "\n",
    "def plot_clusters(data, clusters, genes):\n",
    "    for cluster_id, members in clusters.items():\n",
    "        if len(members) == 0:\n",
    "            print(f\"Cluster {cluster_id} is empty. Skipping...\")\n",
    "            continue\n",
    "\n",
    "        plt.figure(figsize=(10, 6))\n",
    "        for member in members:\n",
    "            gene_name = genes[member]  # Get the gene name\n",
    "            y = data[member]  # Expression vector for the gene\n",
    "\n",
    "            # Check for valid data\n",
    "            if y.size == 0 or np.isnan(y).any():\n",
    "                print(f\"Skipping invalid data for gene {gene_name}\")\n",
    "                continue\n",
    "\n",
    "            plt.plot(range(1, 8), np.log2(y + 1), label=gene_name)  # Plot log2 expression\n",
    "\n",
    "        # Customize the plot\n",
    "        plt.title(f\"Cluster {cluster_id}\")\n",
    "        plt.xlabel(\"Time Points (R1 to R7)\")\n",
    "        plt.ylabel(\"Log2 Expression Level\")\n",
    "        plt.legend(loc=\"upper right\", bbox_to_anchor=(1.2, 1.0))  # Adjust legend position\n",
    "        plt.tight_layout()\n",
    "\n",
    "        # Save the plot to a file\n",
    "        filename = f\"6_{cluster_id + 1}.jpg\"\n",
    "        plt.savefig(filename)\n",
    "        print(f\"Cluster {cluster_id} plot saved as {filename}\")\n",
    "        plt.close()\n",
    "\n",
    "\n",
    "# Generate plots\n",
    "plot_clusters(expression_vectors, clusters, genes)"
   ],
   "id": "5029bc3779eb405d",
   "outputs": [
    {
     "name": "stderr",
     "output_type": "stream",
     "text": [
      "C:\\Users\\Studium\\AppData\\Local\\Temp\\ipykernel_21228\\344416997.py:11: FutureWarning: Series.__getitem__ treating keys as positions is deprecated. In a future version, integer keys will always be treated as labels (consistent with DataFrame behavior). To access a value by position, use `ser.iloc[pos]`\n",
      "  gene_name = genes[member]  # Get the gene name\n",
      "No artists with labels found to put in legend.  Note that artists whose label start with an underscore are ignored when legend() is called with no argument.\n"
     ]
    },
    {
     "name": "stdout",
     "output_type": "stream",
     "text": [
      "Skipping invalid data for gene 12.5\n",
      "Skipping invalid data for gene 0.2\n",
      "Skipping invalid data for gene 0.17\n",
      "Skipping invalid data for gene 0.2\n",
      "Skipping invalid data for gene 10.0\n",
      "Skipping invalid data for gene 0.18\n",
      "Skipping invalid data for gene 5.0\n",
      "Skipping invalid data for gene 5.56\n",
      "Skipping invalid data for gene 4.55\n",
      "Skipping invalid data for gene 6.25\n",
      "Skipping invalid data for gene 7.14\n",
      "Skipping invalid data for gene 4.35\n",
      "Skipping invalid data for gene 5.26\n",
      "Skipping invalid data for gene 5.26\n",
      "Skipping invalid data for gene 0.19\n",
      "Skipping invalid data for gene 0.18\n",
      "Skipping invalid data for gene 6.25\n",
      "Skipping invalid data for gene 7.14\n",
      "Skipping invalid data for gene 5.26\n",
      "Skipping invalid data for gene 5.56\n",
      "Skipping invalid data for gene 5.26\n",
      "Skipping invalid data for gene 5.56\n",
      "Skipping invalid data for gene 0.17\n",
      "Skipping invalid data for gene 2.7\n",
      "Skipping invalid data for gene 0.16\n",
      "Skipping invalid data for gene 0.16\n",
      "Skipping invalid data for gene 0.2\n",
      "Skipping invalid data for gene 2.94\n",
      "Skipping invalid data for gene 0.15\n",
      "Skipping invalid data for gene 0.19\n",
      "Skipping invalid data for gene 5.56\n",
      "Skipping invalid data for gene 2.86\n",
      "Skipping invalid data for gene 6.25\n",
      "Skipping invalid data for gene 10.0\n",
      "Skipping invalid data for gene 0.19\n",
      "Skipping invalid data for gene 7.14\n",
      "Skipping invalid data for gene 0.17\n",
      "Skipping invalid data for gene 5.0\n",
      "Skipping invalid data for gene 8.33\n",
      "Skipping invalid data for gene 0.16\n",
      "Skipping invalid data for gene 0.2\n",
      "Skipping invalid data for gene 2.38\n",
      "Skipping invalid data for gene 0.19\n",
      "Skipping invalid data for gene 0.19\n",
      "Skipping invalid data for gene 3.23\n",
      "Skipping invalid data for gene 0.15\n",
      "Skipping invalid data for gene 10.0\n",
      "Skipping invalid data for gene 6.25\n",
      "Skipping invalid data for gene 5.26\n",
      "Skipping invalid data for gene 2.38\n",
      "Skipping invalid data for gene 3.03\n",
      "Skipping invalid data for gene 6.25\n",
      "Skipping invalid data for gene 0.19\n",
      "Skipping invalid data for gene 0.14\n",
      "Skipping invalid data for gene 0.17\n",
      "Skipping invalid data for gene 0.13\n",
      "Skipping invalid data for gene 2.04\n",
      "Skipping invalid data for gene 5.88\n",
      "Skipping invalid data for gene 5.26\n",
      "Skipping invalid data for gene 7.14\n",
      "Skipping invalid data for gene 5.0\n",
      "Skipping invalid data for gene 5.0\n",
      "Skipping invalid data for gene 0.18\n",
      "Skipping invalid data for gene 9.09\n",
      "Skipping invalid data for gene 6.25\n",
      "Skipping invalid data for gene 12.5\n",
      "Skipping invalid data for gene 5.88\n",
      "Skipping invalid data for gene 0.18\n",
      "Skipping invalid data for gene 10.0\n",
      "Skipping invalid data for gene 11.11\n",
      "Skipping invalid data for gene 1.96\n",
      "Skipping invalid data for gene 6.67\n",
      "Skipping invalid data for gene 3.7\n",
      "Skipping invalid data for gene 1.3\n",
      "Skipping invalid data for gene 0.2\n",
      "Skipping invalid data for gene 3.57\n",
      "Skipping invalid data for gene 0.14\n",
      "Skipping invalid data for gene 0.18\n",
      "Skipping invalid data for gene 0.17\n",
      "Skipping invalid data for gene 5.0\n",
      "Skipping invalid data for gene 7.14\n",
      "Skipping invalid data for gene 4.17\n",
      "Skipping invalid data for gene 6.25\n",
      "Skipping invalid data for gene 5.26\n",
      "Skipping invalid data for gene 7.69\n",
      "Skipping invalid data for gene 0.17\n",
      "Skipping invalid data for gene 0.16\n",
      "Skipping invalid data for gene 0.11\n",
      "Skipping invalid data for gene 0.18\n",
      "Skipping invalid data for gene 7.14\n",
      "Skipping invalid data for gene 5.56\n",
      "Skipping invalid data for gene 4.17\n",
      "Skipping invalid data for gene 5.56\n",
      "Skipping invalid data for gene 0.24\n",
      "Skipping invalid data for gene 0.14\n",
      "Skipping invalid data for gene 5.56\n",
      "Skipping invalid data for gene 0.18\n",
      "Skipping invalid data for gene 5.56\n",
      "Skipping invalid data for gene 1.96\n",
      "Skipping invalid data for gene 0.16\n",
      "Skipping invalid data for gene 8.33\n",
      "Skipping invalid data for gene 2.38\n",
      "Skipping invalid data for gene 0.2\n",
      "Skipping invalid data for gene 0.2\n",
      "Skipping invalid data for gene 0.13\n",
      "Skipping invalid data for gene 0.18\n",
      "Skipping invalid data for gene 2.13\n",
      "Skipping invalid data for gene 2.44\n",
      "Skipping invalid data for gene 7.69\n",
      "Skipping invalid data for gene 3.45\n",
      "Skipping invalid data for gene 2.56\n",
      "Skipping invalid data for gene 5.0\n",
      "Skipping invalid data for gene 8.33\n",
      "Skipping invalid data for gene 0.25\n",
      "Skipping invalid data for gene 0.19\n",
      "Skipping invalid data for gene 0.19\n",
      "Skipping invalid data for gene 0.19\n",
      "Skipping invalid data for gene 0.2\n",
      "Skipping invalid data for gene 12.5\n",
      "Skipping invalid data for gene 2.7\n",
      "Skipping invalid data for gene 0.18\n",
      "Skipping invalid data for gene 0.16\n",
      "Skipping invalid data for gene 0.17\n",
      "Skipping invalid data for gene 6.67\n",
      "Skipping invalid data for gene 0.18\n",
      "Skipping invalid data for gene 5.88\n",
      "Skipping invalid data for gene 3.23\n",
      "Skipping invalid data for gene 9.09\n",
      "Skipping invalid data for gene 6.25\n",
      "Skipping invalid data for gene 2.22\n",
      "Skipping invalid data for gene 3.45\n",
      "Skipping invalid data for gene 10.0\n",
      "Skipping invalid data for gene 2.7\n",
      "Skipping invalid data for gene 14.29\n",
      "Skipping invalid data for gene 0.2\n",
      "Skipping invalid data for gene 14.29\n",
      "Skipping invalid data for gene 6.25\n",
      "Skipping invalid data for gene 6.25\n",
      "Skipping invalid data for gene 0.17\n",
      "Skipping invalid data for gene 0.12\n",
      "Skipping invalid data for gene 0.17\n",
      "Skipping invalid data for gene 0.14\n",
      "Skipping invalid data for gene 0.2\n",
      "Skipping invalid data for gene 0.23\n",
      "Skipping invalid data for gene 5.26\n",
      "Skipping invalid data for gene 6.67\n",
      "Skipping invalid data for gene 10.0\n",
      "Skipping invalid data for gene 0.2\n",
      "Skipping invalid data for gene 3.45\n",
      "Skipping invalid data for gene 0.12\n",
      "Skipping invalid data for gene 0.19\n",
      "Skipping invalid data for gene 0.15\n",
      "Skipping invalid data for gene 0.18\n",
      "Skipping invalid data for gene 0.15\n",
      "Skipping invalid data for gene 5.88\n",
      "Skipping invalid data for gene 6.67\n",
      "Skipping invalid data for gene 2.86\n",
      "Skipping invalid data for gene 6.25\n",
      "Skipping invalid data for gene 5.0\n",
      "Skipping invalid data for gene 0.17\n",
      "Skipping invalid data for gene 6.25\n",
      "Skipping invalid data for gene 0.17\n",
      "Skipping invalid data for gene 0.15\n",
      "Skipping invalid data for gene 0.19\n",
      "Skipping invalid data for gene 0.23\n",
      "Skipping invalid data for gene 3.7\n",
      "Skipping invalid data for gene 14.29\n",
      "Skipping invalid data for gene 0.14\n",
      "Skipping invalid data for gene 0.2\n",
      "Skipping invalid data for gene 0.22\n",
      "Skipping invalid data for gene 7.69\n",
      "Skipping invalid data for gene 0.18\n",
      "Skipping invalid data for gene 0.31\n",
      "Skipping invalid data for gene 11.11\n",
      "Skipping invalid data for gene 2.04\n",
      "Skipping invalid data for gene 0.18\n",
      "Skipping invalid data for gene 6.25\n",
      "Skipping invalid data for gene 5.0\n",
      "Skipping invalid data for gene 0.18\n",
      "Skipping invalid data for gene 0.17\n",
      "Skipping invalid data for gene 4.76\n",
      "Skipping invalid data for gene 5.0\n",
      "Skipping invalid data for gene 0.15\n",
      "Skipping invalid data for gene 9.09\n",
      "Skipping invalid data for gene 0.13\n",
      "Skipping invalid data for gene 0.19\n",
      "Skipping invalid data for gene 4.76\n",
      "Skipping invalid data for gene 5.0\n",
      "Skipping invalid data for gene 0.19\n",
      "Skipping invalid data for gene 0.19\n",
      "Skipping invalid data for gene 0.15\n",
      "Skipping invalid data for gene 0.14\n",
      "Skipping invalid data for gene 9.09\n",
      "Skipping invalid data for gene 0.14\n",
      "Skipping invalid data for gene 4.17\n",
      "Skipping invalid data for gene 0.11\n",
      "Skipping invalid data for gene 7.14\n",
      "Skipping invalid data for gene 3.23\n",
      "Skipping invalid data for gene 0.44\n",
      "Skipping invalid data for gene 0.16\n",
      "Skipping invalid data for gene 10.0\n",
      "Skipping invalid data for gene 5.0\n",
      "Skipping invalid data for gene 5.88\n",
      "Skipping invalid data for gene 3.23\n",
      "Skipping invalid data for gene 0.18\n",
      "Skipping invalid data for gene 0.18\n",
      "Skipping invalid data for gene 2.17\n",
      "Skipping invalid data for gene 9.09\n",
      "Skipping invalid data for gene 0.19\n",
      "Skipping invalid data for gene 0.19\n",
      "Skipping invalid data for gene 3.23\n",
      "Skipping invalid data for gene 0.2\n",
      "Skipping invalid data for gene 0.16\n",
      "Skipping invalid data for gene 3.45\n",
      "Skipping invalid data for gene 6.25\n",
      "Skipping invalid data for gene 5.26\n",
      "Skipping invalid data for gene 4.17\n",
      "Skipping invalid data for gene 7.14\n",
      "Skipping invalid data for gene 0.2\n",
      "Skipping invalid data for gene 0.13\n",
      "Skipping invalid data for gene 0.12\n",
      "Skipping invalid data for gene 0.17\n",
      "Skipping invalid data for gene 5.56\n",
      "Skipping invalid data for gene 0.12\n",
      "Skipping invalid data for gene 0.17\n",
      "Skipping invalid data for gene 0.15\n",
      "Skipping invalid data for gene 0.18\n",
      "Skipping invalid data for gene 0.13\n",
      "Skipping invalid data for gene 5.0\n",
      "Skipping invalid data for gene 6.25\n",
      "Skipping invalid data for gene 5.0\n",
      "Cluster 0 plot saved as 6_1.jpg\n",
      "Cluster 1 is empty. Skipping...\n",
      "Cluster 2 is empty. Skipping...\n",
      "Cluster 3 is empty. Skipping...\n",
      "Cluster 4 is empty. Skipping...\n"
     ]
    }
   ],
   "execution_count": 86
  }
 ],
 "metadata": {
  "kernelspec": {
   "display_name": "Python 3",
   "language": "python",
   "name": "python3"
  },
  "language_info": {
   "codemirror_mode": {
    "name": "ipython",
    "version": 2
   },
   "file_extension": ".py",
   "mimetype": "text/x-python",
   "name": "python",
   "nbconvert_exporter": "python",
   "pygments_lexer": "ipython2",
   "version": "2.7.6"
  }
 },
 "nbformat": 4,
 "nbformat_minor": 5
}
